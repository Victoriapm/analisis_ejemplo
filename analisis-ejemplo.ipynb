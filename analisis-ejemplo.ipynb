{
 "cells": [
  {
   "cell_type": "markdown",
   "id": "01eb39ae",
   "metadata": {},
   "source": [
    "# Titulo del analisis\n",
    "## filtrado por años 2019-2021\n",
    "## por Victoria perez Mola\n",
    "\n",
    "## Objetivo \n",
    "En este analisis quiero enfocarme en responder las preguntas: \n",
    "- Cuales son las startups de mayor valuación? \n",
    "\n",
    "\n",
    "## Indice \n",
    "1. carga de datos \n"
   ]
  },
  {
   "cell_type": "markdown",
   "id": "fb05e7b8",
   "metadata": {},
   "source": [
    "## 1. Carga de datos"
   ]
  },
  {
   "cell_type": "code",
   "execution_count": 1,
   "id": "3e701539",
   "metadata": {},
   "outputs": [],
   "source": [
    "import pandas as pd \n",
    "import seaborn as sb \n",
    "\n",
    "#carga de los csv en los dataframes \n",
    "df"
   ]
  },
  {
   "cell_type": "markdown",
   "id": "f730a868",
   "metadata": {},
   "source": [
    "## 2. Exploración\n"
   ]
  },
  {
   "cell_type": "code",
   "execution_count": null,
   "id": "84c198a1",
   "metadata": {},
   "outputs": [],
   "source": [
    "df.info() \n",
    "df.head()"
   ]
  },
  {
   "cell_type": "markdown",
   "id": "1c1228cb",
   "metadata": {},
   "source": [
    "Los datos van del rango de fechas, las columnas \n",
    "\n",
    "## 3. Limpieza de datos \n",
    "En esta sección quiero limpiar las siguientes cosas: "
   ]
  },
  {
   "cell_type": "code",
   "execution_count": null,
   "id": "9ba69225",
   "metadata": {},
   "outputs": [],
   "source": [
    "# hago una copia\n",
    "df_copia = df.copy()"
   ]
  },
  {
   "cell_type": "code",
   "execution_count": 2,
   "id": "f815428d",
   "metadata": {},
   "outputs": [
    {
     "ename": "NameError",
     "evalue": "name 'lalalalal' is not defined",
     "output_type": "error",
     "traceback": [
      "\u001b[0;31m---------------------------------------------------------------------------\u001b[0m",
      "\u001b[0;31mNameError\u001b[0m                                 Traceback (most recent call last)",
      "\u001b[0;32m<ipython-input-2-e50e3e2396c0>\u001b[0m in \u001b[0;36m<module>\u001b[0;34m\u001b[0m\n\u001b[0;32m----> 1\u001b[0;31m \u001b[0mlalalalal\u001b[0m\u001b[0;34m\u001b[0m\u001b[0;34m\u001b[0m\u001b[0m\n\u001b[0m",
      "\u001b[0;31mNameError\u001b[0m: name 'lalalalal' is not defined"
     ]
    }
   ],
   "source": [
    "lalalalal"
   ]
  },
  {
   "cell_type": "code",
   "execution_count": null,
   "id": "6c5c4fd2",
   "metadata": {},
   "outputs": [],
   "source": [
    "# renombrar, eliminar columnas\n",
    "# merge \n"
   ]
  },
  {
   "cell_type": "markdown",
   "id": "f7419694",
   "metadata": {},
   "source": [
    "## 4. Presentacion de datos \n",
    "### pregunta 1 \n"
   ]
  },
  {
   "cell_type": "code",
   "execution_count": null,
   "id": "07c3d846",
   "metadata": {},
   "outputs": [],
   "source": [
    "# graficar "
   ]
  },
  {
   "cell_type": "markdown",
   "id": "4fa629c0",
   "metadata": {},
   "source": [
    "conclusion "
   ]
  },
  {
   "cell_type": "markdown",
   "id": "d116a0dc",
   "metadata": {},
   "source": [
    "## pregunta 2"
   ]
  },
  {
   "cell_type": "markdown",
   "id": "c5f9eb97",
   "metadata": {},
   "source": [
    "## 5. Conclusiones \n",
    "\n",
    "\n",
    "\n",
    "## Referencias "
   ]
  },
  {
   "cell_type": "code",
   "execution_count": null,
   "id": "f1fcef4a",
   "metadata": {},
   "outputs": [],
   "source": []
  },
  {
   "cell_type": "code",
   "execution_count": null,
   "id": "dbef905e",
   "metadata": {},
   "outputs": [],
   "source": []
  },
  {
   "cell_type": "code",
   "execution_count": null,
   "id": "626b94aa",
   "metadata": {},
   "outputs": [],
   "source": []
  }
 ],
 "metadata": {
  "kernelspec": {
   "display_name": "Python 3",
   "language": "python",
   "name": "python3"
  },
  "language_info": {
   "codemirror_mode": {
    "name": "ipython",
    "version": 3
   },
   "file_extension": ".py",
   "mimetype": "text/x-python",
   "name": "python",
   "nbconvert_exporter": "python",
   "pygments_lexer": "ipython3",
   "version": "3.8.8"
  }
 },
 "nbformat": 4,
 "nbformat_minor": 5
}
