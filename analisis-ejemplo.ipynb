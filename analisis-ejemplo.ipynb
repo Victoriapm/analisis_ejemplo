{
 "cells": [
  {
   "cell_type": "markdown",
   "id": "ac3661cd",
   "metadata": {},
   "source": [
    "# Titulo del analisis\n",
    "## filtrado por años 2019-2021\n",
    "## por Victoria perez Mola\n",
    "\n",
    "## Objetivo \n",
    "En este analisis quiero enfocarme en responder las preguntas: \n",
    "- Cuales son las startups de mayor valuación? \n",
    "\n",
    "\n",
    "## Indice \n",
    "1. carga de datos \n"
   ]
  },
  {
   "cell_type": "markdown",
   "id": "0a0a07bb",
   "metadata": {},
   "source": [
    "## 1. Carga de datos"
   ]
  },
  {
   "cell_type": "code",
   "execution_count": 1,
   "id": "799b84c1",
   "metadata": {},
   "outputs": [],
   "source": [
    "import pandas as pd \n",
    "import seaborn as sb \n",
    "\n",
    "#carga de los csv en los dataframes \n",
    "df"
   ]
  },
  {
   "cell_type": "markdown",
   "id": "adcfcac1",
   "metadata": {},
   "source": [
    "## 2. Exploración\n"
   ]
  },
  {
   "cell_type": "code",
   "execution_count": null,
   "id": "1c6e9a19",
   "metadata": {},
   "outputs": [],
   "source": [
    "df.info() \n",
    "df.head()"
   ]
  },
  {
   "cell_type": "markdown",
   "id": "a4d0d817",
   "metadata": {},
   "source": [
    "Los datos van del rango de fechas, las columnas \n",
    "\n",
    "## 3. Limpieza de datos \n",
    "En esta sección quiero limpiar las siguientes cosas: "
   ]
  },
  {
   "cell_type": "code",
   "execution_count": null,
   "id": "06fb8776",
   "metadata": {},
   "outputs": [],
   "source": [
    "# hago una copia\n",
    "df_copia = df.copy()"
   ]
  },
  {
   "cell_type": "code",
   "execution_count": null,
   "id": "db61e4a3",
   "metadata": {},
   "outputs": [],
   "source": [
    "# renombrar, eliminar columnas\n",
    "# merge \n"
   ]
  },
  {
   "cell_type": "markdown",
   "id": "a24c655d",
   "metadata": {},
   "source": [
    "## 4. Presentacion de datos \n",
    "### pregunta 1 \n"
   ]
  },
  {
   "cell_type": "code",
   "execution_count": null,
   "id": "a5a73396",
   "metadata": {},
   "outputs": [],
   "source": [
    "# graficar "
   ]
  },
  {
   "cell_type": "markdown",
   "id": "e7c5947d",
   "metadata": {},
   "source": [
    "conclusion "
   ]
  },
  {
   "cell_type": "markdown",
   "id": "196c0c76",
   "metadata": {},
   "source": [
    "## pregunta 2"
   ]
  },
  {
   "cell_type": "markdown",
   "id": "aaae29c6",
   "metadata": {},
   "source": [
    "## 5. Conclusiones \n",
    "\n",
    "\n",
    "\n",
    "## Referencias "
   ]
  },
  {
   "cell_type": "code",
   "execution_count": null,
   "id": "f119cbf9",
   "metadata": {},
   "outputs": [],
   "source": []
  },
  {
   "cell_type": "code",
   "execution_count": null,
   "id": "3f3933f4",
   "metadata": {},
   "outputs": [],
   "source": []
  },
  {
   "cell_type": "code",
   "execution_count": null,
   "id": "454a39f6",
   "metadata": {},
   "outputs": [],
   "source": []
  }
 ],
 "metadata": {
  "kernelspec": {
   "display_name": "Python 3",
   "language": "python",
   "name": "python3"
  },
  "language_info": {
   "codemirror_mode": {
    "name": "ipython",
    "version": 3
   },
   "file_extension": ".py",
   "mimetype": "text/x-python",
   "name": "python",
   "nbconvert_exporter": "python",
   "pygments_lexer": "ipython3",
   "version": "3.8.8"
  }
 },
 "nbformat": 4,
 "nbformat_minor": 5
}
